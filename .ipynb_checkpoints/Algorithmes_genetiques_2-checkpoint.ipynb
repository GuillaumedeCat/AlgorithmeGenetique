{
 "cells": [
  {
   "cell_type": "markdown",
   "metadata": {},
   "source": [
    "# Algorithmes génétiques #\n",
    "\n",
    "Vous avez demandé à des élèves de classer leurs choix de sujets de PIE et vous ne savez pas comment faire les groupes de travail ? Les algorithmes génétiques sont là pour vous ! Voici un manuel :"
   ]
  },
  {
   "cell_type": "code",
   "execution_count": 1,
   "metadata": {},
   "outputs": [],
   "source": [
    "import pandas as pd\n",
    "import numpy as np"
   ]
  },
  {
   "cell_type": "markdown",
   "metadata": {},
   "source": [
    "## 1. Récupération des données"
   ]
  },
  {
   "cell_type": "markdown",
   "metadata": {},
   "source": [
    "La première chose à faire est d'organiser un jeu de données. Admettons donc que pour chaque PIE, il y ait des besoins particuliers de compétences en un certain domaine (parmi une liste de domaines que l'on numérote de 1 à Nd), avec un certain niveau de 1 à 10. Puis admettons par la suite, que chaque élève ait une ou plusieurs compétences, chacune avec un certain niveau noté de 1 à 10. Et enfin, chaque élève a ordonné ses cinq sujets préférés, numérotés entre 1 (pour le plus apprécié)et 5 (pour le moins apprécié).\n",
    "\n",
    "Une fois ce jeu de données réalisé, nous pouvons le charger :"
   ]
  },
  {
   "cell_type": "code",
   "execution_count": 2,
   "metadata": {},
   "outputs": [
    {
     "data": {
      "text/html": [
       "<div>\n",
       "<style scoped>\n",
       "    .dataframe tbody tr th:only-of-type {\n",
       "        vertical-align: middle;\n",
       "    }\n",
       "\n",
       "    .dataframe tbody tr th {\n",
       "        vertical-align: top;\n",
       "    }\n",
       "\n",
       "    .dataframe thead th {\n",
       "        text-align: right;\n",
       "    }\n",
       "</style>\n",
       "<table border=\"1\" class=\"dataframe\">\n",
       "  <thead>\n",
       "    <tr style=\"text-align: right;\">\n",
       "      <th></th>\n",
       "      <th>Eleves</th>\n",
       "      <th>Informatique</th>\n",
       "      <th>Dynamique des Fluides</th>\n",
       "      <th>Mecanique du Vol</th>\n",
       "      <th>Gestion de Projet</th>\n",
       "      <th>Anglais</th>\n",
       "      <th>PIE 1</th>\n",
       "      <th>PIE 2</th>\n",
       "      <th>PIE 3</th>\n",
       "      <th>PIE 4</th>\n",
       "      <th>PIE 5</th>\n",
       "    </tr>\n",
       "  </thead>\n",
       "  <tbody>\n",
       "    <tr>\n",
       "      <th>0</th>\n",
       "      <td>Alban</td>\n",
       "      <td>7</td>\n",
       "      <td>10</td>\n",
       "      <td>3</td>\n",
       "      <td>7</td>\n",
       "      <td>3</td>\n",
       "      <td>1</td>\n",
       "      <td>2</td>\n",
       "      <td>3</td>\n",
       "      <td>4</td>\n",
       "      <td>5</td>\n",
       "    </tr>\n",
       "    <tr>\n",
       "      <th>1</th>\n",
       "      <td>Benoit</td>\n",
       "      <td>10</td>\n",
       "      <td>9</td>\n",
       "      <td>10</td>\n",
       "      <td>5</td>\n",
       "      <td>10</td>\n",
       "      <td>2</td>\n",
       "      <td>3</td>\n",
       "      <td>4</td>\n",
       "      <td>5</td>\n",
       "      <td>1</td>\n",
       "    </tr>\n",
       "    <tr>\n",
       "      <th>2</th>\n",
       "      <td>Cecile</td>\n",
       "      <td>6</td>\n",
       "      <td>4</td>\n",
       "      <td>2</td>\n",
       "      <td>10</td>\n",
       "      <td>8</td>\n",
       "      <td>3</td>\n",
       "      <td>4</td>\n",
       "      <td>5</td>\n",
       "      <td>1</td>\n",
       "      <td>2</td>\n",
       "    </tr>\n",
       "    <tr>\n",
       "      <th>3</th>\n",
       "      <td>David</td>\n",
       "      <td>5</td>\n",
       "      <td>6</td>\n",
       "      <td>10</td>\n",
       "      <td>5</td>\n",
       "      <td>7</td>\n",
       "      <td>4</td>\n",
       "      <td>5</td>\n",
       "      <td>1</td>\n",
       "      <td>2</td>\n",
       "      <td>3</td>\n",
       "    </tr>\n",
       "    <tr>\n",
       "      <th>4</th>\n",
       "      <td>Etienne</td>\n",
       "      <td>10</td>\n",
       "      <td>2</td>\n",
       "      <td>1</td>\n",
       "      <td>10</td>\n",
       "      <td>4</td>\n",
       "      <td>5</td>\n",
       "      <td>1</td>\n",
       "      <td>2</td>\n",
       "      <td>3</td>\n",
       "      <td>4</td>\n",
       "    </tr>\n",
       "  </tbody>\n",
       "</table>\n",
       "</div>"
      ],
      "text/plain": [
       "    Eleves  Informatique  Dynamique des Fluides  Mecanique du Vol  \\\n",
       "0    Alban             7                     10                 3   \n",
       "1   Benoit            10                      9                10   \n",
       "2   Cecile             6                      4                 2   \n",
       "3    David             5                      6                10   \n",
       "4  Etienne            10                      2                 1   \n",
       "\n",
       "   Gestion de Projet  Anglais  PIE 1  PIE 2  PIE 3  PIE 4  PIE 5  \n",
       "0                  7        3      1      2      3      4      5  \n",
       "1                  5       10      2      3      4      5      1  \n",
       "2                 10        8      3      4      5      1      2  \n",
       "3                  5        7      4      5      1      2      3  \n",
       "4                 10        4      5      1      2      3      4  "
      ]
     },
     "execution_count": 2,
     "metadata": {},
     "output_type": "execute_result"
    }
   ],
   "source": [
    "data_eleves = pd.read_csv('DonneesEleves.csv')\n",
    "\n",
    "data_eleves.head()"
   ]
  },
  {
   "cell_type": "code",
   "execution_count": 3,
   "metadata": {},
   "outputs": [
    {
     "data": {
      "text/html": [
       "<div>\n",
       "<style scoped>\n",
       "    .dataframe tbody tr th:only-of-type {\n",
       "        vertical-align: middle;\n",
       "    }\n",
       "\n",
       "    .dataframe tbody tr th {\n",
       "        vertical-align: top;\n",
       "    }\n",
       "\n",
       "    .dataframe thead th {\n",
       "        text-align: right;\n",
       "    }\n",
       "</style>\n",
       "<table border=\"1\" class=\"dataframe\">\n",
       "  <thead>\n",
       "    <tr style=\"text-align: right;\">\n",
       "      <th></th>\n",
       "      <th>PIE</th>\n",
       "      <th>Informatique</th>\n",
       "      <th>Dynamique des Fluides</th>\n",
       "      <th>Mecanique du Vol</th>\n",
       "      <th>Gestion de Projet</th>\n",
       "      <th>Anglais</th>\n",
       "    </tr>\n",
       "  </thead>\n",
       "  <tbody>\n",
       "    <tr>\n",
       "      <th>0</th>\n",
       "      <td>PIE 1</td>\n",
       "      <td>8</td>\n",
       "      <td>8</td>\n",
       "      <td>10</td>\n",
       "      <td>8</td>\n",
       "      <td>9</td>\n",
       "    </tr>\n",
       "    <tr>\n",
       "      <th>1</th>\n",
       "      <td>PIE 2</td>\n",
       "      <td>9</td>\n",
       "      <td>8</td>\n",
       "      <td>9</td>\n",
       "      <td>10</td>\n",
       "      <td>8</td>\n",
       "    </tr>\n",
       "    <tr>\n",
       "      <th>2</th>\n",
       "      <td>PIE 3</td>\n",
       "      <td>8</td>\n",
       "      <td>8</td>\n",
       "      <td>10</td>\n",
       "      <td>8</td>\n",
       "      <td>8</td>\n",
       "    </tr>\n",
       "    <tr>\n",
       "      <th>3</th>\n",
       "      <td>PIE 4</td>\n",
       "      <td>8</td>\n",
       "      <td>9</td>\n",
       "      <td>8</td>\n",
       "      <td>9</td>\n",
       "      <td>8</td>\n",
       "    </tr>\n",
       "    <tr>\n",
       "      <th>4</th>\n",
       "      <td>PIE 5</td>\n",
       "      <td>8</td>\n",
       "      <td>8</td>\n",
       "      <td>9</td>\n",
       "      <td>9</td>\n",
       "      <td>8</td>\n",
       "    </tr>\n",
       "  </tbody>\n",
       "</table>\n",
       "</div>"
      ],
      "text/plain": [
       "     PIE  Informatique  Dynamique des Fluides  Mecanique du Vol  \\\n",
       "0  PIE 1             8                      8                10   \n",
       "1  PIE 2             9                      8                 9   \n",
       "2  PIE 3             8                      8                10   \n",
       "3  PIE 4             8                      9                 8   \n",
       "4  PIE 5             8                      8                 9   \n",
       "\n",
       "   Gestion de Projet  Anglais  \n",
       "0                  8        9  \n",
       "1                 10        8  \n",
       "2                  8        8  \n",
       "3                  9        8  \n",
       "4                  9        8  "
      ]
     },
     "execution_count": 3,
     "metadata": {},
     "output_type": "execute_result"
    }
   ],
   "source": [
    "data_PIE = pd.read_csv('DonneesPIE.csv')\n",
    "\n",
    "data_PIE.head()"
   ]
  },
  {
   "cell_type": "code",
   "execution_count": 4,
   "metadata": {},
   "outputs": [
    {
     "name": "stdout",
     "output_type": "stream",
     "text": [
      "9\n"
     ]
    }
   ],
   "source": [
    "#print(data_eleves.get(2,127))\n",
    "print(data_eleves.iat[1,2])"
   ]
  },
  {
   "cell_type": "code",
   "execution_count": 15,
   "metadata": {},
   "outputs": [
    {
     "name": "stdout",
     "output_type": "stream",
     "text": [
      "(15, 11) (5, 6)\n",
      "5\n"
     ]
    }
   ],
   "source": [
    "print(data_eleves.shape, data_PIE.shape)\n",
    "print(data_PIE.shape[0])"
   ]
  },
  {
   "cell_type": "markdown",
   "metadata": {},
   "source": [
    "## Initialisation"
   ]
  },
  {
   "cell_type": "code",
   "execution_count": 54,
   "metadata": {},
   "outputs": [],
   "source": [
    "Ng = 5 #nombre d'élèves par groupe de PIE\n",
    "Ne = data_eleves.shape[0] # Nombre d'élèves\n",
    "Npie = data_PIE.shape[0] #Nombre de sujets de PIE\n",
    "Ndom = data_PIE.shape[1] -1 #Nombre de domaines évalués\n",
    "\n",
    "n_pop=1000\n",
    "k_select=250\n",
    "p_mut=0.01\n",
    "coef_prof = 1\n",
    "coef_ch = 1\n",
    "coef_group = 50\n",
    "max_iter = 100\n",
    "objective = 200\n",
    "\n",
    "pop=[]\n",
    "\n",
    "#initialisation\n",
    "for repartition in range(n_pop):\n",
    "    pop.append(np.random.randint(1,Npie, size=Ne))\n",
    "    #pop.append(np.zeros(Ne))"
   ]
  },
  {
   "cell_type": "markdown",
   "metadata": {},
   "source": [
    "## 2. Choix d'une fonction à optimiser\n",
    "\n",
    "La fonction à optimiser est caractéristique des choix de priorité que l'on fait vis-à-vis des différents critères...lequel sera considéré plus important ? Exprimons-la dans cette partie."
   ]
  },
  {
   "cell_type": "code",
   "execution_count": 55,
   "metadata": {},
   "outputs": [],
   "source": [
    "def profil(repartition):\n",
    "    prof = np.zeros((Npie,Ndom))\n",
    "    \n",
    "    for e in range(Ne):\n",
    "        PIE = repartition[e]\n",
    "        PIE = int(PIE)\n",
    "        for d in range(Ndom):\n",
    "            note = data_eleves.iat[e,d+1]\n",
    "            if note > prof[PIE][d]:\n",
    "                prof[PIE][d] = note\n",
    "    return prof\n",
    "\n",
    "def choice(repartition):\n",
    "    ch = np.zeros(Npie)\n",
    "    \n",
    "    for e in range(Ne):\n",
    "        PIE = repartition[e]\n",
    "        PIE = int(PIE)\n",
    "        ch[PIE] += data_eleves.iat[e,Ndom + PIE + 1]\n",
    "        \n",
    "    return ch\n",
    "\n",
    "def nbgroup(repartition):\n",
    "    nb = np.zeros(Npie)\n",
    "    \n",
    "    for e in range(Ne):\n",
    "        PIE = repartition[e]\n",
    "        PIE = int(PIE)\n",
    "        nb[PIE] += 1\n",
    "        \n",
    "    return nb\n",
    "\n",
    "\n",
    "def score_PIE(repartition):\n",
    "    prof = profil(repartition)\n",
    "    ch = choice(repartition)\n",
    "    nb = nbgroup(repartition)\n",
    "    score = 0\n",
    "    \n",
    "    for p in range(Npie):\n",
    "        for d in range(Ndom):\n",
    "            if nb[p] != 0:\n",
    "                score += coef_prof * max(0, data_PIE.iat[p,d+1] - prof[p][d])\n",
    "        \n",
    "        score += coef_ch * ch[p]\n",
    "        \n",
    "        if nb[p] != 0:\n",
    "            score += coef_group * abs(5-nb[p])\n",
    "        \n",
    "    return score\n",
    "    "
   ]
  },
  {
   "cell_type": "markdown",
   "metadata": {},
   "source": [
    "### Decat was here"
   ]
  },
  {
   "cell_type": "markdown",
   "metadata": {},
   "source": [
    "## 3. Mise en place de l'algorithme"
   ]
  },
  {
   "cell_type": "code",
   "execution_count": 14,
   "metadata": {},
   "outputs": [],
   "source": [
    "import numpy as np\n",
    "\n",
    "#retourne les croisements de deux parents\n",
    "def cross(a1, a2):\n",
    "    b1 = np.zeros(Ne)\n",
    "    b2 = np.zeros(Ne)\n",
    "    for i in range(Ne):\n",
    "        r = np.random.uniform()\n",
    "        if(r<0.5):\n",
    "            b1[i]=a1[i]\n",
    "            b2[i]=a2[i]\n",
    "        else:\n",
    "            b1[i]=a2[i]\n",
    "            b2[i]=a1[i]\n",
    "    return b1, b2"
   ]
  },
  {
   "cell_type": "code",
   "execution_count": 15,
   "metadata": {},
   "outputs": [],
   "source": [
    "#retourne la liste des couples qui vont générer\n",
    "def select(k, pop):\n",
    "    n_pop = len(pop)\n",
    "    l_select = []\n",
    "    n = 0\n",
    "    while(n < n_pop-k):\n",
    "        i_a1 = np.random.randint(0,n_pop-1)\n",
    "        i_a2 = np.random.randint(0,n_pop-1)\n",
    "        if i_a2 != i_a1 :\n",
    "            n += 2 \n",
    "            l_select.append((pop[i_a1],pop[i_a2]))\n",
    "    return l_select"
   ]
  },
  {
   "cell_type": "code",
   "execution_count": 16,
   "metadata": {},
   "outputs": [],
   "source": [
    "#Effectue la mutation d'une repartition (un eleve et un PIE choisis au hasard)\n",
    "def mutate(repartition):\n",
    "    i1_mut = np.random.randint(0, len(repartition)-1)\n",
    "    i2_mut = np.random.randint(0, len(repartition)-1)\n",
    "    PIE_i1 = repartition[i1_mut]\n",
    "    PIE_i2 = repartition[i2_mut]\n",
    "    repartition[i1_mut] = PIE_i2\n",
    "    repartition[i2_mut] = PIE_i1\n",
    "    \n",
    "    return repartition"
   ]
  },
  {
   "cell_type": "code",
   "execution_count": 17,
   "metadata": {},
   "outputs": [],
   "source": [
    "#Calcul du score d'une repartition\n",
    "def evaluate(k, pop):\n",
    "    pop_max = list()\n",
    "    l_score = []\n",
    "    \n",
    "    for i in range(len(pop)):\n",
    "            l_score.append(score_PIE(pop[i]))\n",
    "    \n",
    "    M = max(l_score)\n",
    "        \n",
    "    for _ in range(k):\n",
    "        m = min(l_score)\n",
    "        i = 0\n",
    "        while l_score[i] != m:\n",
    "            i += 1\n",
    "        pop_max.append(pop[i])\n",
    "        l_score[i] = M + 1\n",
    "        \n",
    "    return pop_max"
   ]
  },
  {
   "cell_type": "code",
   "execution_count": 56,
   "metadata": {},
   "outputs": [
    {
     "name": "stdout",
     "output_type": "stream",
     "text": [
      "0\n",
      "[3 4 3 1 3 3 1 1 4 4 1 1 4 4 3] 45.0 [[ 0.  0.  0.  0.  0.]\n",
      " [ 9. 10. 10. 10.  9.]\n",
      " [ 0.  0.  0.  0.  0.]\n",
      " [10. 10. 10. 10.  8.]\n",
      " [10.  9. 10.  9. 10.]] [ 0. 17.  0. 15. 13.] [0. 5. 0. 5. 5.] 1\n"
     ]
    }
   ],
   "source": [
    "k_iter = 0\n",
    "best_score = Ne * 10000\n",
    "best_repartition = np.zeros(Ne)\n",
    "while(k_iter < max_iter) and (best_score > objective):\n",
    "    print(k_iter)\n",
    "    new_pop = evaluate(k_select, pop)\n",
    "    best_repartition = new_pop[0]\n",
    "    best_score = score_PIE(best_repartition)\n",
    "    for a1, a2 in select(k_select, pop):\n",
    "        b1, b2 = cross(a1, a2)\n",
    "        r1 = np.random.uniform()\n",
    "        if(r1 < p_mut):\n",
    "            mutate(b1)\n",
    "        r2 = np.random.uniform()\n",
    "        if(r2 < p_mut):\n",
    "            mutate(b2)\n",
    "        new_pop.append(b1)\n",
    "        new_pop.append(b2)\n",
    "    if(len(new_pop)>n_pop):\n",
    "        new_pop.pop()\n",
    "    pop = new_pop\n",
    "    k_iter += 1\n",
    "    \n",
    "print(best_repartition, best_score, profil(best_repartition), choice(best_repartition), nbgroup(best_repartition), k_iter)"
   ]
  },
  {
   "cell_type": "code",
   "execution_count": 48,
   "metadata": {},
   "outputs": [
    {
     "name": "stdout",
     "output_type": "stream",
     "text": [
      "[0. 0. 0. 0. 0. 0. 0. 0. 0. 0. 0. 0. 0. 0. 0.] [[10. 10. 10. 10. 10.]\n",
      " [ 0.  0.  0.  0.  0.]\n",
      " [ 0.  0.  0.  0.  0.]\n",
      " [ 0.  0.  0.  0.  0.]\n",
      " [ 0.  0.  0.  0.  0.]] [45.  0.  0.  0.  0.] [15.  0.  0.  0.  0.] 100\n"
     ]
    }
   ],
   "source": [
    "print(best_repartition, profil(best_repartition), choice(best_repartition), nbgroup(best_repartition), k_iter)"
   ]
  },
  {
   "cell_type": "code",
   "execution_count": null,
   "metadata": {},
   "outputs": [],
   "source": []
  },
  {
   "cell_type": "code",
   "execution_count": null,
   "metadata": {},
   "outputs": [],
   "source": []
  },
  {
   "cell_type": "code",
   "execution_count": null,
   "metadata": {},
   "outputs": [],
   "source": []
  }
 ],
 "metadata": {
  "kernelspec": {
   "display_name": "Python 3",
   "language": "python",
   "name": "python3"
  },
  "language_info": {
   "codemirror_mode": {
    "name": "ipython",
    "version": 3
   },
   "file_extension": ".py",
   "mimetype": "text/x-python",
   "name": "python",
   "nbconvert_exporter": "python",
   "pygments_lexer": "ipython3",
   "version": "3.6.5"
  }
 },
 "nbformat": 4,
 "nbformat_minor": 2
}
